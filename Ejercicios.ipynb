{
  "nbformat": 4,
  "nbformat_minor": 0,
  "metadata": {
    "colab": {
      "provenance": []
    },
    "kernelspec": {
      "name": "python3",
      "display_name": "Python 3"
    },
    "language_info": {
      "name": "python"
    }
  },
  "cells": [
    {
      "cell_type": "markdown",
      "source": [
        "LUCIA MARTINEZ "
      ],
      "metadata": {
        "id": "f1RIt4q49Lv8"
      }
    },
    {
      "cell_type": "markdown",
      "source": [
        "A)LISTA DE NUMEROS Y DEVUELVA LA SUMA DE TODOS LOS NUMEROS"
      ],
      "metadata": {
        "id": "7OYy8aleS_GT"
      }
    },
    {
      "cell_type": "code",
      "execution_count": null,
      "metadata": {
        "id": "-9CKBhrDRNdP"
      },
      "outputs": [],
      "source": [
        "Lista=[4,6,10,76,80,97]"
      ]
    },
    {
      "cell_type": "code",
      "source": [
        "suma_de_Lista = sum(Lista)\n",
        "print(suma_de_Lista)"
      ],
      "metadata": {
        "colab": {
          "base_uri": "https://localhost:8080/"
        },
        "id": "cDHF3m9pSx4W",
        "outputId": "96786463-66ee-4455-f0b5-45f38578d9fa"
      },
      "execution_count": null,
      "outputs": [
        {
          "output_type": "stream",
          "name": "stdout",
          "text": [
            "273\n"
          ]
        }
      ]
    },
    {
      "cell_type": "markdown",
      "source": [
        "B)DOS LISTAS Y DEVUEVA UNA LISTA QUE CONTENGA LOS ELEMENTOS EN COMUN"
      ],
      "metadata": {
        "id": "3d_EtvWUTL7D"
      }
    },
    {
      "cell_type": "code",
      "source": [
        "Lista2=[6,24,76,85,12]\n"
      ],
      "metadata": {
        "id": "8Pp6Qij3TTJ_"
      },
      "execution_count": null,
      "outputs": []
    },
    {
      "cell_type": "code",
      "source": [
        "a=set(Lista)\n",
        "b=set(Lista2)"
      ],
      "metadata": {
        "id": "rmquU5DwV_UR"
      },
      "execution_count": null,
      "outputs": []
    },
    {
      "cell_type": "code",
      "source": [
        "interseccion= list(a&b)"
      ],
      "metadata": {
        "id": "ahuM7zZLWOwC"
      },
      "execution_count": null,
      "outputs": []
    },
    {
      "cell_type": "code",
      "source": [
        "print(f\"Lista de elementos que aparecen en ambas listas:{interseccion}\")"
      ],
      "metadata": {
        "colab": {
          "base_uri": "https://localhost:8080/"
        },
        "id": "6oWVUwVlWoUT",
        "outputId": "d52197f5-5087-4b12-8900-c9efe8ae09cb"
      },
      "execution_count": null,
      "outputs": [
        {
          "output_type": "stream",
          "name": "stdout",
          "text": [
            "Lista de elementos que aparecen en ambas listas:[76, 6]\n"
          ]
        }
      ]
    },
    {
      "cell_type": "markdown",
      "source": [
        "C)  C) LISTA DE CADENAS COMO ENTRADA Y DEVUELVA LA LONGITUD DE LA CADENA MAS LARGA EN LA LISTA"
      ],
      "metadata": {
        "id": "OX5ReV0LYDmB"
      }
    },
    {
      "cell_type": "code",
      "source": [
        "listaPalabras=[\"hola\",\"mundo\",\"haciendo\"]\n",
        "\n",
        "LongPalabra = 0\n",
        "PalabraLarga = None\n",
        "\n",
        "for i in listaPalabras:\n",
        "  if len(i) > LongPalabra:\n",
        "    LongPalabra = len(i)\n",
        "    PalabraLarga = i\n",
        "print(PalabraLarga)\n",
        "\n"
      ],
      "metadata": {
        "colab": {
          "base_uri": "https://localhost:8080/"
        },
        "id": "kEoHn8c6W5FJ",
        "outputId": "dec81824-fa69-4383-db79-247626a62d70"
      },
      "execution_count": null,
      "outputs": [
        {
          "output_type": "stream",
          "name": "stdout",
          "text": [
            "haciendo\n"
          ]
        }
      ]
    },
    {
      "cell_type": "markdown",
      "source": [
        "D)  Escribe un programa que tome una lista de números como entrada y devuelva una nueva lista que contenga solo los números pares de la lista"
      ],
      "metadata": {
        "id": "oygK1ixkaEfA"
      }
    },
    {
      "cell_type": "code",
      "source": [
        "lista = [4, 9, 10, 2, 7, 5, 4, 6, 1, 16]\n",
        "\n"
      ],
      "metadata": {
        "id": "eVt-0VVCaSZW"
      },
      "execution_count": null,
      "outputs": []
    },
    {
      "cell_type": "code",
      "source": [
        "for i in lista:\n",
        "  if(i % 2 ==0):\n",
        "    print(i)\n",
        "  "
      ],
      "metadata": {
        "colab": {
          "base_uri": "https://localhost:8080/"
        },
        "id": "JfQaYa2McKly",
        "outputId": "a7f6c2e2-37de-4995-f86f-6b9dc7c8f732"
      },
      "execution_count": null,
      "outputs": [
        {
          "output_type": "stream",
          "name": "stdout",
          "text": [
            "4\n",
            "10\n",
            "2\n",
            "4\n",
            "6\n",
            "16\n"
          ]
        }
      ]
    },
    {
      "cell_type": "code",
      "source": [],
      "metadata": {
        "id": "o2aAZ-6_cXjh"
      },
      "execution_count": null,
      "outputs": []
    },
    {
      "cell_type": "markdown",
      "source": [
        "E)  LISTA DE CADENAS COMO ENTRADAS DE DEVUELVA NUEVA LISTA"
      ],
      "metadata": {
        "id": "knHCn1dAfkh9"
      }
    },
    {
      "cell_type": "code",
      "source": [
        "ListaEntrada = [\"amanecer\",\"avion\",\"sol\",\"amarillo\"]\n",
        "\n",
        "for i in ListaEntrada:\n",
        "    if i.__contains__(\"a\"):\n",
        "        print(i)\n"
      ],
      "metadata": {
        "colab": {
          "base_uri": "https://localhost:8080/"
        },
        "id": "H-HjeM3nfwyI",
        "outputId": "0271cf57-5e18-4a4e-9419-d6d567db649b"
      },
      "execution_count": null,
      "outputs": [
        {
          "output_type": "stream",
          "name": "stdout",
          "text": [
            "amanecer\n",
            "avion\n",
            "amarillo\n"
          ]
        }
      ]
    },
    {
      "cell_type": "markdown",
      "source": [
        "F) DICCIONARIO QUE DEVUELVA EL VALOR ASOCIADO"
      ],
      "metadata": {
        "id": "k8aghYgtiQSC"
      }
    },
    {
      "cell_type": "code",
      "source": [
        "diccionario = {'int':9,'bool':True,'str':'chao','float':6.6}\n",
        "\n",
        "print(diccionario['int'])\n"
      ],
      "metadata": {
        "colab": {
          "base_uri": "https://localhost:8080/"
        },
        "id": "ju1xFBddiVei",
        "outputId": "f7fa0b77-9bdf-441a-8bc5-556e139fb2fa"
      },
      "execution_count": 55,
      "outputs": [
        {
          "output_type": "stream",
          "name": "stdout",
          "text": [
            "9\n"
          ]
        }
      ]
    },
    {
      "cell_type": "markdown",
      "source": [
        "G) LISTA DE DICCIONARIOS\n"
      ],
      "metadata": {
        "id": "d9967YcQj7ZW"
      }
    },
    {
      "cell_type": "code",
      "source": [
        "diccionario2 = {'bol':False,'fl':7.9,'string':'hola','in':5}\n",
        "\n",
        "diccionario3 = diccionario | diccionario2\n",
        "print(diccionario3['float'],diccionario3['fl'])"
      ],
      "metadata": {
        "id": "M0mUkMC8kvo8",
        "colab": {
          "base_uri": "https://localhost:8080/"
        },
        "outputId": "39f0653b-b4a6-48ed-803c-ce11cfba444f"
      },
      "execution_count": 62,
      "outputs": [
        {
          "output_type": "stream",
          "name": "stdout",
          "text": [
            "6.6 7.9\n"
          ]
        }
      ]
    },
    {
      "cell_type": "code",
      "source": [],
      "metadata": {
        "id": "vILxM9SWp5ki"
      },
      "execution_count": null,
      "outputs": []
    },
    {
      "cell_type": "markdown",
      "source": [
        "H y  J) VALORES INTERCAMBIADOS\n"
      ],
      "metadata": {
        "id": "XpOUBo72tFJZ"
      }
    },
    {
      "cell_type": "code",
      "source": [
        "diccionario4 = {'int':7,'bool':True,'str':'tarde','float':3.6}\n",
        "\n",
        "keys = diccionario4.keys()\n",
        "print(keys)\n"
      ],
      "metadata": {
        "colab": {
          "base_uri": "https://localhost:8080/"
        },
        "id": "gqBbXriwtMfR",
        "outputId": "e00147f2-051a-4170-8a46-39fd788a0f6f"
      },
      "execution_count": 65,
      "outputs": [
        {
          "output_type": "stream",
          "name": "stdout",
          "text": [
            "dict_keys(['int', 'bool', 'str', 'float'])\n"
          ]
        }
      ]
    },
    {
      "cell_type": "code",
      "source": [
        "sorted_keys = sorted(keys)\n",
        "print(sorted_keys)"
      ],
      "metadata": {
        "colab": {
          "base_uri": "https://localhost:8080/"
        },
        "id": "ecVI8m4otjDZ",
        "outputId": "722a9ed3-c144-4be4-f3dd-e554c545f02b"
      },
      "execution_count": 66,
      "outputs": [
        {
          "output_type": "stream",
          "name": "stdout",
          "text": [
            "['bool', 'float', 'int', 'str']\n"
          ]
        }
      ]
    },
    {
      "cell_type": "code",
      "source": [
        "sorted_diccionario4 = {}\n",
        "for key in sorted_keys:\n",
        "  sorted_diccionario4[key] = diccionario4[key]\n",
        "\n",
        "print(sorted_diccionario4)"
      ],
      "metadata": {
        "colab": {
          "base_uri": "https://localhost:8080/"
        },
        "id": "vNWZqTRPvJI3",
        "outputId": "dce3426b-4b1d-4f84-9168-154e9cbc61dc"
      },
      "execution_count": 67,
      "outputs": [
        {
          "output_type": "stream",
          "name": "stdout",
          "text": [
            "{'bool': True, 'float': 3.6, 'int': 7, 'str': 'tarde'}\n"
          ]
        }
      ]
    },
    {
      "cell_type": "markdown",
      "source": [
        "K) FUNCION DE DOS NUMEROS COMO ENTRADA Y DEVUELVA SU SUMA"
      ],
      "metadata": {
        "id": "4aHteiF0vuZy"
      }
    },
    {
      "cell_type": "code",
      "source": [
        "def Sumnumeros():\n",
        "  a = 11\n",
        "  b = 6\n",
        "  c = a + b\n",
        "  print(c)\n",
        "\n",
        "Sumnumeros()"
      ],
      "metadata": {
        "colab": {
          "base_uri": "https://localhost:8080/"
        },
        "id": "e5GS-DTKvWPt",
        "outputId": "4cf18c80-e6d4-4512-f1cb-91b927470929"
      },
      "execution_count": 70,
      "outputs": [
        {
          "output_type": "stream",
          "name": "stdout",
          "text": [
            "17\n"
          ]
        }
      ]
    },
    {
      "cell_type": "code",
      "source": [],
      "metadata": {
        "id": "XjhwTeZpw4Nl"
      },
      "execution_count": null,
      "outputs": []
    },
    {
      "cell_type": "markdown",
      "source": [
        "L) FUNCION QUE CONTIENE CADENA MAS LARGA"
      ],
      "metadata": {
        "id": "Qn49nG05xGFk"
      }
    },
    {
      "cell_type": "code",
      "source": [
        " \n",
        " def LongitudPalabra():\n",
        "    listaPalabras=[\"chao\",\"galaxia\",\"durmiendo\"]\n",
        "\n",
        "    LongPalabra = 0\n",
        "    PalabraLarga = None\n",
        "\n",
        "    for i in listaPalabras:\n",
        "      if len(i) > LongPalabra:\n",
        "        LongPalabra = len(i)\n",
        "        PalabraLarga = i\n",
        "    print(PalabraLarga)\n",
        "\n",
        "LongitudPalabra()  "
      ],
      "metadata": {
        "colab": {
          "base_uri": "https://localhost:8080/"
        },
        "id": "agneLeJ6xKqv",
        "outputId": "18a2809c-f211-4b99-f6f6-6f6f9c10430e"
      },
      "execution_count": 73,
      "outputs": [
        {
          "output_type": "stream",
          "name": "stdout",
          "text": [
            "durmiendo\n"
          ]
        }
      ]
    },
    {
      "cell_type": "markdown",
      "source": [
        "M) PALINDROMO"
      ],
      "metadata": {
        "id": "uzuoNiiYzNH2"
      }
    },
    {
      "cell_type": "code",
      "source": [
        "def palindromo(cadena):\n",
        "    inicio = 0\n",
        "    fin = len(cadena) - 1\n",
        "    while cadena[inicio] == cadena[fin]:\n",
        "        if inicio >= fin:\n",
        "            return True\n",
        "        inicio += 1\n",
        "        fin -= 1\n",
        "    return False\n",
        "\n",
        "palindromo(\"carro\")\n",
        "\n",
        "\n"
      ],
      "metadata": {
        "colab": {
          "base_uri": "https://localhost:8080/"
        },
        "id": "IqO2v5U_xi3N",
        "outputId": "0c5b58b7-0889-45d8-fdc1-75df7a58ca6b"
      },
      "execution_count": 79,
      "outputs": [
        {
          "output_type": "execute_result",
          "data": {
            "text/plain": [
              "False"
            ]
          },
          "metadata": {},
          "execution_count": 79
        }
      ]
    },
    {
      "cell_type": "markdown",
      "source": [
        "N) FUNCION PROMEDIO"
      ],
      "metadata": {
        "id": "jOgJ9SQYzUdF"
      }
    },
    {
      "cell_type": "code",
      "source": [
        "def promedio():\n",
        "  numeros=[6,8,9,10,11,12,13]\n",
        "  mean = sum(numeros)/len(numeros)\n",
        "  print(mean)\n",
        "\n",
        "promedio()"
      ],
      "metadata": {
        "colab": {
          "base_uri": "https://localhost:8080/"
        },
        "id": "CC2zAuyayzDh",
        "outputId": "1b952afb-ed93-4674-ef0b-caa30e34ceee"
      },
      "execution_count": 80,
      "outputs": [
        {
          "output_type": "stream",
          "name": "stdout",
          "text": [
            "9.857142857142858\n"
          ]
        }
      ]
    },
    {
      "cell_type": "markdown",
      "source": [
        "O) CLAVES DEL DICC"
      ],
      "metadata": {
        "id": "3tHHuDYJz22C"
      }
    },
    {
      "cell_type": "code",
      "source": [
        "def claves():\n",
        "  dicc = {'int':7,'bool':True,'str':'tardes','float':3.9}\n",
        "  keys = dicc.keys()\n",
        "  print(keys)\n",
        "\n",
        "claves()\n",
        "\n",
        "\n",
        "  "
      ],
      "metadata": {
        "colab": {
          "base_uri": "https://localhost:8080/"
        },
        "id": "_kNjz-Bbz031",
        "outputId": "178b9ee3-45cb-4081-dbcf-81ac61fa6bae"
      },
      "execution_count": 82,
      "outputs": [
        {
          "output_type": "stream",
          "name": "stdout",
          "text": [
            "dict_keys(['int', 'bool', 'str', 'float'])\n"
          ]
        }
      ]
    },
    {
      "cell_type": "markdown",
      "source": [
        "P VALOR MAXIMO"
      ],
      "metadata": {
        "id": "kkp9hhbs0UGb"
      }
    },
    {
      "cell_type": "code",
      "source": [
        "maximo=[146,293,718,987,678]\n",
        "print(max(maximo))\n"
      ],
      "metadata": {
        "colab": {
          "base_uri": "https://localhost:8080/"
        },
        "id": "e_V01OOw0Phw",
        "outputId": "5fd90bfe-3908-44d0-c7e8-f7f57d7ed938"
      },
      "execution_count": 83,
      "outputs": [
        {
          "output_type": "stream",
          "name": "stdout",
          "text": [
            "987\n"
          ]
        }
      ]
    },
    {
      "cell_type": "markdown",
      "source": [
        "Q) VOCALES"
      ],
      "metadata": {
        "id": "NZ1050YA1DKc"
      }
    },
    {
      "cell_type": "code",
      "source": [
        "palabra1 = \"renacer\"\n",
        "\n",
        "vowels = ['a','A','e','E','i','I','o','O','u','U']\n",
        "res = ''\n",
        "\n",
        "for letter in palabra1:\n",
        "\t\tif letter in vowels:\n",
        "\t\t\tvowels += letter\n",
        "\n",
        "print(letter)\n"
      ],
      "metadata": {
        "colab": {
          "base_uri": "https://localhost:8080/"
        },
        "id": "zwdPsWb51Vsb",
        "outputId": "65da4141-644c-4e44-d655-b55f13376979"
      },
      "execution_count": 90,
      "outputs": [
        {
          "output_type": "stream",
          "name": "stdout",
          "text": [
            "r\n"
          ]
        }
      ]
    },
    {
      "cell_type": "markdown",
      "source": [
        "R) VALORES AL CUADRADO"
      ],
      "metadata": {
        "id": "32jk9R255i51"
      }
    },
    {
      "cell_type": "code",
      "source": [
        "numList = [2,4,6,8]\n",
        "\n",
        "for i in range(0,len(numList)):\n",
        "\tnumList[i]=numList[i]*numList[i]\n",
        "\n",
        "print(numList)"
      ],
      "metadata": {
        "colab": {
          "base_uri": "https://localhost:8080/"
        },
        "id": "w4JS_MhU3uxZ",
        "outputId": "5c15e5a3-a655-49ca-80d6-650ed93b5480"
      },
      "execution_count": 93,
      "outputs": [
        {
          "output_type": "stream",
          "name": "stdout",
          "text": [
            "[4, 16, 36, 64]\n"
          ]
        }
      ]
    },
    {
      "cell_type": "markdown",
      "source": [
        "S) INVERSO"
      ],
      "metadata": {
        "id": "N5affTwR6o_w"
      }
    },
    {
      "cell_type": "code",
      "source": [
        "cad = \"Hola como estas?\"\n",
        "final = ''\n",
        "if(cad[-1] in ['.', '!', '?']): \n",
        "  \n",
        "  final = cad[-1] \n",
        "  cad = cad[:-1] \n",
        "palabras = cad.split(' ') \n",
        "\n",
        "palabras_inv\n",
        "cad_inv = ' '.join(palabras_inv) + final\n",
        "\n",
        "print(cad_inv)"
      ],
      "metadata": {
        "colab": {
          "base_uri": "https://localhost:8080/"
        },
        "id": "bV4i51az6Nwn",
        "outputId": "1aa38f0f-1d96-4b7d-c060-0c28fcea7d12"
      },
      "execution_count": 97,
      "outputs": [
        {
          "output_type": "stream",
          "name": "stdout",
          "text": [
            "estas como Hola?\n"
          ]
        }
      ]
    },
    {
      "cell_type": "markdown",
      "source": [
        "T ULTIMO PUNTO"
      ],
      "metadata": {
        "id": "SObs61ZO72Du"
      }
    },
    {
      "cell_type": "code",
      "source": [
        "listaPalabras2 = [\"Holas\", \"como\", \"vas\"]\n",
        "\n",
        "for i in listaPalabras2:\n",
        "  print(len(i))\n"
      ],
      "metadata": {
        "colab": {
          "base_uri": "https://localhost:8080/"
        },
        "id": "-IfgtQp66uY0",
        "outputId": "1b4d65d2-ff98-45bf-efef-5f392f4e7a03"
      },
      "execution_count": 98,
      "outputs": [
        {
          "output_type": "stream",
          "name": "stdout",
          "text": [
            "5\n",
            "4\n",
            "3\n"
          ]
        }
      ]
    },
    {
      "cell_type": "code",
      "source": [],
      "metadata": {
        "id": "HopYdLlA8a96"
      },
      "execution_count": null,
      "outputs": []
    },
    {
      "cell_type": "markdown",
      "source": [],
      "metadata": {
        "id": "lwHPODlp9J5c"
      }
    }
  ]
}